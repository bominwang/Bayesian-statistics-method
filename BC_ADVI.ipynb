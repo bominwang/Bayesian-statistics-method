{
  "nbformat": 4,
  "nbformat_minor": 0,
  "metadata": {
    "colab": {
      "provenance": [],
      "authorship_tag": "ABX9TyPJTMwxyQMPw5gflsJ2441W",
      "include_colab_link": true
    },
    "kernelspec": {
      "name": "python3",
      "display_name": "Python 3"
    },
    "language_info": {
      "name": "python"
    }
  },
  "cells": [
    {
      "cell_type": "markdown",
      "metadata": {
        "id": "view-in-github",
        "colab_type": "text"
      },
      "source": [
        "<a href=\"https://colab.research.google.com/github/bominwang/Bayesian-statistics-method/blob/Bayesian-model-calibration/BC_ADVI.ipynb\" target=\"_parent\"><img src=\"https://colab.research.google.com/assets/colab-badge.svg\" alt=\"Open In Colab\"/></a>"
      ]
    },
    {
      "cell_type": "code",
      "execution_count": 1,
      "metadata": {
        "id": "KTfBzg6AQTjF"
      },
      "outputs": [],
      "source": [
        "import numpy as np\n",
        "import scipy\n",
        "import matplotlib\n",
        "from matplotlib import pyplot as plt\n",
        "from scipy import stats"
      ]
    },
    {
      "cell_type": "code",
      "source": [
        "!pip install pymc==4.1.4"
      ],
      "metadata": {
        "colab": {
          "base_uri": "https://localhost:8080/"
        },
        "id": "ok_RVw6sTk4D",
        "outputId": "a9af26d5-4428-4192-afb8-6b85a76386a5"
      },
      "execution_count": 3,
      "outputs": [
        {
          "output_type": "stream",
          "name": "stdout",
          "text": [
            "Looking in indexes: https://pypi.org/simple, https://us-python.pkg.dev/colab-wheels/public/simple/\n",
            "Collecting pymc==4.1.4\n",
            "  Downloading pymc-4.1.4-py3-none-any.whl (543 kB)\n",
            "\u001b[2K     \u001b[90m━━━━━━━━━━━━━━━━━━━━━━━━━━━━━━━━━━━━━━\u001b[0m \u001b[32m543.1/543.1 KB\u001b[0m \u001b[31m22.4 MB/s\u001b[0m eta \u001b[36m0:00:00\u001b[0m\n",
            "\u001b[?25hRequirement already satisfied: numpy>=1.15.0 in /usr/local/lib/python3.9/dist-packages (from pymc==4.1.4) (1.22.4)\n",
            "Requirement already satisfied: pandas>=0.24.0 in /usr/local/lib/python3.9/dist-packages (from pymc==4.1.4) (1.4.4)\n",
            "Collecting aesara==2.7.9\n",
            "  Downloading aesara-2.7.9-py3-none-any.whl (1.4 MB)\n",
            "\u001b[2K     \u001b[90m━━━━━━━━━━━━━━━━━━━━━━━━━━━━━━━━━━━━━━━━\u001b[0m \u001b[32m1.4/1.4 MB\u001b[0m \u001b[31m70.1 MB/s\u001b[0m eta \u001b[36m0:00:00\u001b[0m\n",
            "\u001b[?25hRequirement already satisfied: fastprogress>=0.2.0 in /usr/local/lib/python3.9/dist-packages (from pymc==4.1.4) (1.0.3)\n",
            "Requirement already satisfied: cachetools>=4.2.1 in /usr/local/lib/python3.9/dist-packages (from pymc==4.1.4) (5.3.0)\n",
            "Collecting aeppl==0.0.33\n",
            "  Downloading aeppl-0.0.33-py3-none-any.whl (49 kB)\n",
            "\u001b[2K     \u001b[90m━━━━━━━━━━━━━━━━━━━━━━━━━━━━━━━━━━━━━━━━\u001b[0m \u001b[32m49.4/49.4 KB\u001b[0m \u001b[31m6.4 MB/s\u001b[0m eta \u001b[36m0:00:00\u001b[0m\n",
            "\u001b[?25hRequirement already satisfied: cloudpickle in /usr/local/lib/python3.9/dist-packages (from pymc==4.1.4) (2.2.1)\n",
            "Requirement already satisfied: typing-extensions>=3.7.4 in /usr/local/lib/python3.9/dist-packages (from pymc==4.1.4) (4.5.0)\n",
            "Requirement already satisfied: arviz>=0.12.0 in /usr/local/lib/python3.9/dist-packages (from pymc==4.1.4) (0.15.1)\n",
            "Requirement already satisfied: scipy>=1.4.1 in /usr/local/lib/python3.9/dist-packages (from pymc==4.1.4) (1.10.1)\n",
            "Requirement already satisfied: etuples in /usr/local/lib/python3.9/dist-packages (from aesara==2.7.9->pymc==4.1.4) (0.3.8)\n",
            "Requirement already satisfied: miniKanren in /usr/local/lib/python3.9/dist-packages (from aesara==2.7.9->pymc==4.1.4) (1.0.3)\n",
            "Requirement already satisfied: cons in /usr/local/lib/python3.9/dist-packages (from aesara==2.7.9->pymc==4.1.4) (0.4.5)\n",
            "Requirement already satisfied: filelock in /usr/local/lib/python3.9/dist-packages (from aesara==2.7.9->pymc==4.1.4) (3.10.0)\n",
            "Requirement already satisfied: setuptools>=45.0.0 in /usr/local/lib/python3.9/dist-packages (from aesara==2.7.9->pymc==4.1.4) (67.6.0)\n",
            "Requirement already satisfied: logical-unification in /usr/local/lib/python3.9/dist-packages (from aesara==2.7.9->pymc==4.1.4) (0.4.5)\n",
            "Requirement already satisfied: packaging in /usr/local/lib/python3.9/dist-packages (from arviz>=0.12.0->pymc==4.1.4) (23.0)\n",
            "Requirement already satisfied: matplotlib>=3.2 in /usr/local/lib/python3.9/dist-packages (from arviz>=0.12.0->pymc==4.1.4) (3.7.1)\n",
            "Requirement already satisfied: xarray>=0.21.0 in /usr/local/lib/python3.9/dist-packages (from arviz>=0.12.0->pymc==4.1.4) (2022.12.0)\n",
            "Requirement already satisfied: xarray-einstats>=0.3 in /usr/local/lib/python3.9/dist-packages (from arviz>=0.12.0->pymc==4.1.4) (0.5.1)\n",
            "Requirement already satisfied: h5netcdf>=1.0.2 in /usr/local/lib/python3.9/dist-packages (from arviz>=0.12.0->pymc==4.1.4) (1.1.0)\n",
            "Requirement already satisfied: python-dateutil>=2.8.1 in /usr/local/lib/python3.9/dist-packages (from pandas>=0.24.0->pymc==4.1.4) (2.8.2)\n",
            "Requirement already satisfied: pytz>=2020.1 in /usr/local/lib/python3.9/dist-packages (from pandas>=0.24.0->pymc==4.1.4) (2022.7.1)\n",
            "Requirement already satisfied: h5py in /usr/local/lib/python3.9/dist-packages (from h5netcdf>=1.0.2->arviz>=0.12.0->pymc==4.1.4) (3.8.0)\n",
            "Requirement already satisfied: fonttools>=4.22.0 in /usr/local/lib/python3.9/dist-packages (from matplotlib>=3.2->arviz>=0.12.0->pymc==4.1.4) (4.39.2)\n",
            "Requirement already satisfied: pillow>=6.2.0 in /usr/local/lib/python3.9/dist-packages (from matplotlib>=3.2->arviz>=0.12.0->pymc==4.1.4) (8.4.0)\n",
            "Requirement already satisfied: importlib-resources>=3.2.0 in /usr/local/lib/python3.9/dist-packages (from matplotlib>=3.2->arviz>=0.12.0->pymc==4.1.4) (5.12.0)\n",
            "Requirement already satisfied: kiwisolver>=1.0.1 in /usr/local/lib/python3.9/dist-packages (from matplotlib>=3.2->arviz>=0.12.0->pymc==4.1.4) (1.4.4)\n",
            "Requirement already satisfied: cycler>=0.10 in /usr/local/lib/python3.9/dist-packages (from matplotlib>=3.2->arviz>=0.12.0->pymc==4.1.4) (0.11.0)\n",
            "Requirement already satisfied: pyparsing>=2.3.1 in /usr/local/lib/python3.9/dist-packages (from matplotlib>=3.2->arviz>=0.12.0->pymc==4.1.4) (3.0.9)\n",
            "Requirement already satisfied: contourpy>=1.0.1 in /usr/local/lib/python3.9/dist-packages (from matplotlib>=3.2->arviz>=0.12.0->pymc==4.1.4) (1.0.7)\n",
            "Requirement already satisfied: six>=1.5 in /usr/local/lib/python3.9/dist-packages (from python-dateutil>=2.8.1->pandas>=0.24.0->pymc==4.1.4) (1.16.0)\n",
            "Requirement already satisfied: multipledispatch in /usr/local/lib/python3.9/dist-packages (from logical-unification->aesara==2.7.9->pymc==4.1.4) (0.6.0)\n",
            "Requirement already satisfied: toolz in /usr/local/lib/python3.9/dist-packages (from logical-unification->aesara==2.7.9->pymc==4.1.4) (0.12.0)\n",
            "Requirement already satisfied: zipp>=3.1.0 in /usr/local/lib/python3.9/dist-packages (from importlib-resources>=3.2.0->matplotlib>=3.2->arviz>=0.12.0->pymc==4.1.4) (3.15.0)\n",
            "Installing collected packages: aesara, aeppl, pymc\n",
            "  Attempting uninstall: pymc\n",
            "    Found existing installation: pymc 5.1.2\n",
            "    Uninstalling pymc-5.1.2:\n",
            "      Successfully uninstalled pymc-5.1.2\n",
            "Successfully installed aeppl-0.0.33 aesara-2.7.9 pymc-4.1.4\n"
          ]
        }
      ]
    },
    {
      "cell_type": "code",
      "source": [
        "import pymc as pm\n",
        "pm.__version__"
      ],
      "metadata": {
        "colab": {
          "base_uri": "https://localhost:8080/",
          "height": 35
        },
        "id": "XwCO3riVSKRR",
        "outputId": "7e3208a1-00c5-4056-c4c1-bcd9dad68ac8"
      },
      "execution_count": 7,
      "outputs": [
        {
          "output_type": "execute_result",
          "data": {
            "text/plain": [
              "'4.1.4'"
            ],
            "application/vnd.google.colaboratory.intrinsic+json": {
              "type": "string"
            }
          },
          "metadata": {},
          "execution_count": 7
        }
      ]
    },
    {
      "cell_type": "code",
      "source": [
        "# 构建物理模型，例如：\n",
        "def model(x, a, b):\n",
        "    return a * x + b\n",
        "\n",
        "# 模拟观测数据，例如：\n",
        "x_obs = np.array([1, 2, 3, 4, 5])\n",
        "y_obs = np.array([2.1, 4.1, 6.2, 8.2, 10.3])\n",
        "\n",
        "with pm.Model() as my_model:\n",
        "    # 定义先验分布\n",
        "    a = pm.Normal('a', mu=0, sigma=10)\n",
        "    b = pm.Normal('b', mu=0, sigma=10)\n",
        "    \n",
        "    # 定义似然函数\n",
        "    y = pm.Normal('y', mu=model(x_obs, a, b), sigma=0.1, observed=y_obs)\n",
        "    \n",
        "    # 进行变分推断\n",
        "    approx = pm.fit(method='advi')\n",
        "    \n",
        "    # 输出结果\n",
        "    trace = approx.sample(draws=5000)\n",
        "    pm.summary(trace)"
      ],
      "metadata": {
        "colab": {
          "base_uri": "https://localhost:8080/",
          "height": 56
        },
        "id": "AuAlGw-2ZYh0",
        "outputId": "ea388878-cbeb-4c1c-bd7b-9b4c754c22a4"
      },
      "execution_count": 8,
      "outputs": [
        {
          "output_type": "display_data",
          "data": {
            "text/plain": [
              "<IPython.core.display.HTML object>"
            ],
            "text/html": [
              "\n",
              "<style>\n",
              "    /* Turns off some styling */\n",
              "    progress {\n",
              "        /* gets rid of default border in Firefox and Opera. */\n",
              "        border: none;\n",
              "        /* Needs to be in here for Safari polyfill so background images work as expected. */\n",
              "        background-size: auto;\n",
              "    }\n",
              "    progress:not([value]), progress:not([value])::-webkit-progress-bar {\n",
              "        background: repeating-linear-gradient(45deg, #7e7e7e, #7e7e7e 10px, #5c5c5c 10px, #5c5c5c 20px);\n",
              "    }\n",
              "    .progress-bar-interrupted, .progress-bar-interrupted::-webkit-progress-bar {\n",
              "        background: #F44336;\n",
              "    }\n",
              "</style>\n"
            ]
          },
          "metadata": {}
        },
        {
          "output_type": "display_data",
          "data": {
            "text/plain": [
              "<IPython.core.display.HTML object>"
            ],
            "text/html": [
              "\n",
              "    <div>\n",
              "      <progress value='10000' class='' max='10000' style='width:300px; height:20px; vertical-align: middle;'></progress>\n",
              "      100.00% [10000/10000 00:01&lt;00:00 Average Loss = 224.42]\n",
              "    </div>\n",
              "    "
            ]
          },
          "metadata": {}
        },
        {
          "output_type": "stream",
          "name": "stderr",
          "text": [
            "Shape validation failed: input_shape: (1, 5000), minimum_shape: (chains=2, draws=4)\n"
          ]
        }
      ]
    },
    {
      "cell_type": "markdown",
      "source": [
        "\n",
        "\n",
        "```\n",
        "import pymc3 as pm\n",
        "import numpy as np\n",
        "\n",
        "# 自定义似然函数\n",
        "def custom_likelihood(y_obs, y_pred, sigma):\n",
        "    # 这里使用了正态分布作为似然函数\n",
        "    likelihood = pm.Normal(\"likelihood\", mu=y_pred, sigma=sigma, observed=y_obs)\n",
        "    return likelihood\n",
        "\n",
        "# 定义物理模型\n",
        "def model(theta):\n",
        "    # 这里可以根据具体问题来定义模型\n",
        "    y = theta[0] * np.sin(theta[1]) + theta[2] * np.cos(theta[3])\n",
        "    return y\n",
        "\n",
        "# 生成观测数据\n",
        "np.random.seed(42)\n",
        "n = 100\n",
        "theta_true = np.array([1.0, np.pi/4, 0.5, np.pi/3])\n",
        "epsilon = 0.1\n",
        "X = np.random.rand(n, 4) * 10.0\n",
        "y_obs = model(theta_true) + np.random.randn(n) * epsilon\n",
        "\n",
        "# 定义先验分布\n",
        "with pm.Model() as model:\n",
        "    theta = pm.Normal('theta', mu=0, sigma=10, shape=4)\n",
        "    sigma = pm.HalfNormal('sigma', sigma=1)\n",
        "\n",
        "    # 定义似然函数\n",
        "    y_pred = model(theta)\n",
        "    likelihood = custom_likelihood(y_obs, y_pred, sigma)\n",
        "\n",
        "    # 进行变分推断\n",
        "    approx = pm.fit(method='advi')\n",
        "\n",
        "    # 获取后验分布\n",
        "    trace = approx.sample(1000)\n",
        "\n",
        "# 输出后验分布的统计信息\n",
        "pm.summary(trace)\n",
        "```\n",
        "在上述代码中，自定义的似然函数为custom_likelihood，它的参数包括观测数据y_obs、模型预测结果y_pred和标准差sigma。在定义模型时，我们将先验分布和似然函数都加入到了with pm.Model() as model:的上下文管理器中，使用pm.Normal和pm.HalfNormal定义了参数的先验分布，使用custom_likelihood定义了似然函数。最后使用pm.fit进行变分推断，获取模型参数的后验分布。\n",
        "\n",
        "需要注意的是，在定义自定义的似然函数时，需要遵循pymc3库中定义似然函数的规范，将其定义为一个pymc3的随机变量，并使用observed参数指定观测数据。\n"
      ],
      "metadata": {
        "id": "HwLxQBtTbG5s"
      }
    },
    {
      "cell_type": "markdown",
      "source": [
        "在利用自动微分变分推断修正物理模型参数时，可以使用pm.Potential函数将参数限制在一定范围内。下面是一个示例程序：\n",
        "\n",
        "\n",
        "```\n",
        "import pymc3 as pm\n",
        "import numpy as np\n",
        "\n",
        "# 定义物理模型\n",
        "def model(theta):\n",
        "    # 这里可以根据具体问题来定义模型\n",
        "    y = theta[0] * np.sin(theta[1]) + theta[2] * np.cos(theta[3])\n",
        "    return y\n",
        "\n",
        "# 生成观测数据\n",
        "np.random.seed(42)\n",
        "n = 100\n",
        "theta_true = np.array([1.0, np.pi/4, 0.5, np.pi/3])\n",
        "epsilon = 0.1\n",
        "X = np.random.rand(n, 4) * 10.0\n",
        "y_obs = model(theta_true) + np.random.randn(n) * epsilon\n",
        "\n",
        "# 定义先验分布\n",
        "with pm.Model() as model:\n",
        "    theta = pm.Uniform('theta', lower=0, upper=1, shape=4)\n",
        "    sigma = pm.HalfNormal('sigma', sigma=1)\n",
        "\n",
        "    # 定义似然函数\n",
        "    y_pred = model(theta)\n",
        "    likelihood = pm.Normal('likelihood', mu=y_pred, sigma=sigma, observed=y_obs)\n",
        "\n",
        "    # 进行变分推断\n",
        "    approx = pm.fit(method='advi')\n",
        "\n",
        "    # 获取后验分布\n",
        "    trace = approx.sample(1000)\n",
        "\n",
        "# 输出后验分布的统计信息\n",
        "pm.summary(trace)\n",
        "```\n",
        "\n",
        "在上述代码中，我们使用pm.Uniform定义了参数的先验分布，并通过lower和upper参数指定了参数的取值范围。这里我们将参数的取值范围限制在0到1之间。在定义似然函数时，我们直接使用了pm.Normal来定义正态分布的似然函数。\n",
        "\n",
        "需要注意的是，对参数取值范围的限制应该根据具体问题进行调整，以确保先验分布和观测数据的一致性。另外，当参数的取值范围非常大时，使用先验分布来限制参数取值的效果可能不如使用约束条件等其他方法。\n"
      ],
      "metadata": {
        "id": "5X91tA54cPeU"
      }
    },
    {
      "cell_type": "markdown",
      "source": [
        "\n",
        "\n",
        "```\n",
        "import pymc3 as pm\n",
        "import numpy as np\n",
        "\n",
        "# 定义物理模型\n",
        "def model(theta):\n",
        "    # 这里可以根据具体问题来定义模型\n",
        "    y = theta[0] * np.sin(theta[1]) + theta[2] * np.cos(theta[3])\n",
        "    return y\n",
        "\n",
        "# 生成观测数据\n",
        "np.random.seed(42)\n",
        "n = 100\n",
        "theta_true = np.array([1.0, np.pi/4, 0.5, np.pi/3])\n",
        "epsilon = 0.1\n",
        "X = np.random.rand(n, 4) * 10.0\n",
        "y_obs = model(theta_true) + np.random.randn(n) * epsilon\n",
        "\n",
        "# 定义先验分布\n",
        "with pm.Model() as model:\n",
        "    theta_0 = pm.Normal('theta_0', mu=0, sigma=1)\n",
        "    theta_1 = pm.Normal('theta_1', mu=0, sigma=1)\n",
        "    theta_2 = pm.Normal('theta_2', mu=0, sigma=1)\n",
        "    theta_3 = pm.Normal('theta_3', mu=0, sigma=1)\n",
        "\n",
        "    theta = pm.Bound(pm.Normal, lower=0, upper=1, shape=4)('theta', mu=[theta_0, theta_1, theta_2, theta_3])\n",
        "\n",
        "    sigma = pm.HalfNormal('sigma', sigma=1)\n",
        "\n",
        "    # 定义似然函数\n",
        "    y_pred = model(theta)\n",
        "    likelihood = pm.Normal('likelihood', mu=y_pred, sigma=sigma, observed=y_obs)\n",
        "\n",
        "    # 进行变分推断\n",
        "    approx = pm.fit(method='advi')\n",
        "\n",
        "    # 获取后验分布\n",
        "    trace = approx.sample(1000)\n",
        "\n",
        "# 输出后验分布的统计信息\n",
        "pm.summary(trace)\n",
        "```\n",
        "\n",
        "在上述代码中，我们使用pm.Normal定义了四个参数的先验分布，并通过pm.Bound将参数的取值范围限制在0到1之间。需要注意的是，pm.Bound需要传入两个参数，第一个参数是要限制的分布类型，第二个参数是分布的参数，因此我们需要使用shape=4来指定参数的个数，同时将四个参数分别作为pm.Normal的参数传入。\n",
        "\n"
      ],
      "metadata": {
        "id": "6aAwdDHPc-La"
      }
    },
    {
      "cell_type": "markdown",
      "source": [
        "\n",
        "\n",
        "```\n",
        "import pymc3 as pm\n",
        "import numpy as np\n",
        "import theano.tensor as tt\n",
        "\n",
        "# 定义自定义的似然函数\n",
        "def my_likelihood(x, y_obs, theta):\n",
        "    y_pred = theta[0] * x ** 2 + theta[1] * x + theta[2] * tt.sin(theta[3] * x) + theta[4]\n",
        "    epsilon = theta[5]\n",
        "    return pm.Normal.dist(mu=y_pred, sigma=epsilon).logp(y_obs).sum()\n",
        "\n",
        "# 生成观测数据\n",
        "np.random.seed(42)\n",
        "n = 50\n",
        "x_obs = np.linspace(-5, 5, n)\n",
        "theta_true = np.array([0.5, -1.0, 2.0, 0.5, 1.0, 0.5])\n",
        "y_obs = theta_true[0] * x_obs ** 2 + theta_true[1] * x_obs + theta_true[2] * np.sin(theta_true[3] * x_obs) + theta_true[4] + np.random.randn(n) * theta_true[5]\n",
        "\n",
        "# 定义模型\n",
        "with pm.Model() as model:\n",
        "    # 定义参数的先验分布\n",
        "    theta = pm.Uniform('theta', lower=-10.0, upper=10.0, shape=6)\n",
        "    # 定义似然函数\n",
        "    likelihood = pm.Potential('likelihood', my_likelihood(x_obs, y_obs, theta))\n",
        "    # 进行变分推断\n",
        "    approx = pm.fit(method='advi')\n",
        "    trace = approx.sample(1000)\n",
        "\n",
        "# 输出参数的后验分布的统计信息\n",
        "pm.summary(trace)\n",
        "```\n",
        "\n"
      ],
      "metadata": {
        "id": "42zMhdBQgVus"
      }
    },
    {
      "cell_type": "markdown",
      "source": [
        "当需要处理更多的参数时，可以使用shape参数将参数数目扩展为所需的数量，并根据需要对每个参数添加先验分布。\n",
        "\n",
        "如果需要自定义一个较为复杂的似然函数，可以使用pm.DensityDist来定义一个密度函数，然后将其作为似然函数使用。下面是一个示例程序，演示了如何使用pymc3中的pm.DensityDist定义一个自定义的似然函数，同时优化5个参数：\n",
        "\n",
        "\n",
        "\n",
        "```\n",
        "import pymc3 as pm\n",
        "import numpy as np\n",
        "\n",
        "# 定义物理模型\n",
        "def model(x, theta):\n",
        "    y = theta[0] * np.sin(theta[1] * x) + theta[2] * np.exp(-theta[3] * x) + theta[4]\n",
        "    return y\n",
        "\n",
        "# 定义自定义的似然函数\n",
        "def custom_likelihood(y_obs, y_pred):\n",
        "    diff = y_obs - y_pred\n",
        "    loglikelihood = -0.5 * np.sum(diff ** 2)\n",
        "    return loglikelihood\n",
        "\n",
        "# 生成观测数据\n",
        "np.random.seed(42)\n",
        "n = 50\n",
        "x_obs = np.linspace(0, 10, n)\n",
        "theta_true = np.array([1.0, 0.5, 0.5, 0.1, 0.5])\n",
        "epsilon = 0.5\n",
        "y_obs = model(x_obs, theta_true) + np.random.randn(n) * epsilon\n",
        "\n",
        "# 定义模型\n",
        "with pm.Model() as model:\n",
        "    # 定义参数的先验分布\n",
        "    theta = pm.Uniform('theta', lower=0.0, upper=1.0, shape=5)\n",
        "    # 定义似然函数\n",
        "    y_pred = model(x_obs, theta)\n",
        "    likelihood = pm.DensityDist('likelihood', logp=lambda y_pred: custom_likelihood(y_obs, y_pred), observed=y_pred)\n",
        "    # 进行变分推断\n",
        "    approx = pm.fit(method='advi')\n",
        "    trace = approx.sample(1000)\n",
        "\n",
        "# 输出参数的后验分布的统计信息\n",
        "pm.summary(trace)\n",
        "```\n",
        "\n",
        "\n",
        "在上述代码中，我们定义了一个包含5个参数的物理模型，并定义了一个自定义的似然函数custom_likelihood，它将预测值和观测值作为输入，并返回对数似然。然后我们使用pm.DensityDist将其作为似然函数使用。\n",
        "\n",
        "需要注意的是，在自定义似然函数时，必须使用对数似然而不是原始似然，因为pymc3只能处理对数似然。另外，自定义似然函数必须接受预测值和观测值作为输入，并返回对数似然。\n",
        "\n",
        "在定义参数的先验分布时，我们使用pm.Uniform将每个参数的取值限制在0和1之间。需要根据具体问题来调整参数的先验分布，以确保先验分布和观测数据的一致性。"
      ],
      "metadata": {
        "id": "RshEEmHngkgJ"
      }
    },
    {
      "cell_type": "markdown",
      "source": [
        "\n",
        "\n",
        "```\n",
        "import pymc3 as pm\n",
        "import numpy as np\n",
        "\n",
        "# 定义物理模型\n",
        "def model(x, theta):\n",
        "    y = theta[0] * np.sin(theta[1] * x) + theta[2] * x ** 2 + theta[3] * x + theta[4]\n",
        "    return y\n",
        "\n",
        "# 生成观测数据\n",
        "np.random.seed(42)\n",
        "n = 50\n",
        "x_obs = np.linspace(-5, 5, n)\n",
        "theta_true = np.array([1.0, 2.0, -1.0, 0.5, 3.0])\n",
        "epsilon = 0.5\n",
        "y_obs = model(x_obs, theta_true) + np.random.randn(n) * epsilon\n",
        "\n",
        "# 定义自定义似然函数\n",
        "def log_likelihood(y_obs, y_pred, epsilon):\n",
        "    return pm.Normal.logp(y_obs, mu=y_pred, sigma=epsilon)\n",
        "\n",
        "# 定义模型\n",
        "with pm.Model() as model:\n",
        "    # 定义参数的先验分布\n",
        "    theta = [pm.Normal(f'theta_{i}', mu=0.0, sigma=1.0) for i in range(5)]\n",
        "    # 将参数限制在一定范围内\n",
        "    theta[0] = pm.Uniform('theta_0', lower=0.0, upper=2.0)\n",
        "    theta[1] = pm.Uniform('theta_1', lower=0.0, upper=4.0)\n",
        "    theta[2] = pm.Uniform('theta_2', lower=-2.0, upper=0.0)\n",
        "    theta[3] = pm.Uniform('theta_3', lower=-1.0, upper=1.0)\n",
        "    theta[4] = pm.Uniform('theta_4', lower=1.0, upper=5.0)\n",
        "    \n",
        "    # 定义似然函数\n",
        "    y_pred = model(x_obs, theta)\n",
        "    likelihood = pm.DensityDist('likelihood', logp=lambda y_obs, y_pred: log_likelihood(y_obs, y_pred, epsilon), observed={'y_obs': y_obs, 'y_pred': y_pred})\n",
        "    \n",
        "    # 进行变分推断\n",
        "    approx = pm.fit(method='advi')\n",
        "    trace = approx.sample(1000)\n",
        "\n",
        "# 输出参数的后验分布的统计信息\n",
        "pm.summary(trace)\n",
        "```\n",
        "\n",
        "\n",
        "\n",
        "\n"
      ],
      "metadata": {
        "id": "jT3pLk-lg_Ro"
      }
    },
    {
      "cell_type": "markdown",
      "source": [
        "\n",
        "\n",
        "```\n",
        "import pymc3 as pm\n",
        "import numpy as np\n",
        "import theano.tensor as tt\n",
        "import torch\n",
        "\n",
        "# 自定义似然函数\n",
        "def log_likelihood(y_obs, x_obs, *theta):\n",
        "    # 加载训练好的神经网络模型\n",
        "    model = torch.load('my_model.pt')\n",
        "    model.eval()\n",
        "\n",
        "    # 计算模型预测\n",
        "    with torch.no_grad():\n",
        "        x = torch.tensor(x_obs).unsqueeze(1).float()\n",
        "        theta = torch.tensor(theta).unsqueeze(0).float()\n",
        "        y_pred = model(x, theta).squeeze().numpy()\n",
        "\n",
        "    # 计算似然函数的对数值\n",
        "    epsilon = 0.5\n",
        "    log_likelihood = tt.sum(pm.Normal.dist(mu=y_pred, sigma=epsilon).logp(y_obs))\n",
        "\n",
        "    return log_likelihood\n",
        "\n",
        "# 生成观测数据\n",
        "np.random.seed(42)\n",
        "n = 50\n",
        "x_obs = np.linspace(-5, 5, n)\n",
        "theta_true = np.array([0.5, -1.0, 2.0, 0.0, 1.0])\n",
        "epsilon = 0.5\n",
        "y_obs = np.zeros(n)\n",
        "for i in range(n):\n",
        "    y_obs[i] = log_likelihood(np.array([y_obs[i]]), np.array([x_obs[i]]), *theta_true)\n",
        "\n",
        "# 定义模型\n",
        "with pm.Model() as model:\n",
        "    # 定义参数的先验分布\n",
        "    theta = [pm.Uniform(f'theta_{i}', lower=0.0, upper=1.0) for i in range(5)]\n",
        "    # 定义似然函数\n",
        "    likelihood = pm.DensityDist('likelihood', log_likelihood, observed={'y_obs': y_obs, 'x_obs': x_obs, 'theta': theta})\n",
        "    # 进行变分推断\n",
        "    approx = pm.fit(method='advi')\n",
        "    trace = approx.sample(1000)\n",
        "\n",
        "# 输出参数的后验分布的统计信息\n",
        "pm.summary(trace)\n",
        "```\n",
        "\n",
        "在上述代码中，我们首先自定义了一个log_likelihood函数，其中使用了torch库加载训练好的神经网络模型，并将其应用于参数和自变量上来计算模型预测。然后，我们使用pm.Uniform来定义5个参数的先验分布，并将其作为参数传递给pm.DensityDist来定义自定义的似然函数。在定义pm.DensityDist时，我们使用observed参数来将观测数据和自变量传递给似然函数。最后，我们使用pm.fit函数进行变分推断，并使用pm.summary函数输出参数的后验分布的统计信息。需要注意的是，在使用PyTorch模型计算模型预测时，需要\n",
        "\n"
      ],
      "metadata": {
        "id": "lZbaTgTciXzT"
      }
    }
  ]
}