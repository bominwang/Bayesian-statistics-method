{
  "nbformat": 4,
  "nbformat_minor": 0,
  "metadata": {
    "colab": {
      "provenance": [],
      "authorship_tag": "ABX9TyPNcB9uF3Ah3NTKWHYO1K/O",
      "include_colab_link": true
    },
    "kernelspec": {
      "name": "python3",
      "display_name": "Python 3"
    },
    "language_info": {
      "name": "python"
    }
  },
  "cells": [
    {
      "cell_type": "markdown",
      "metadata": {
        "id": "view-in-github",
        "colab_type": "text"
      },
      "source": [
        "<a href=\"https://colab.research.google.com/github/bominwang/Bayesian-statistics-method/blob/bayesian-model-averaging-method/bayesian_model_averaging.ipynb\" target=\"_parent\"><img src=\"https://colab.research.google.com/assets/colab-badge.svg\" alt=\"Open In Colab\"/></a>"
      ]
    },
    {
      "cell_type": "code",
      "execution_count": 161,
      "metadata": {
        "id": "mZGrr3ob7uuZ"
      },
      "outputs": [],
      "source": [
        "import numpy as np"
      ]
    },
    {
      "cell_type": "code",
      "source": [
        "class model_posterior(object):\n",
        "  \n",
        "  def __init__(self, experiment_data, model_dataset, model_prior):\n",
        "    # experiment_data 和 model_data 都为numpy数组，每行表示一个样本\n",
        "    # model_dataset为3维张量，model_dataset[i, :, :] = model_data\n",
        "    # model_prior为1维张量 model_prior[i,:] = prior\n",
        "    # warning：会出现后验概率和不为1的情况，请检查代码\n",
        "    \n",
        "    self.experiment_data = experiment_data\n",
        "    self.model_dataset = model_dataset\n",
        "    self.model_prior = model_prior\n",
        "    \n",
        "  \n",
        "  def error_covariance(self, experiment_data, model_data):\n",
        "    \n",
        "    data_volume = experiment_data.shape[0]\n",
        "    covariance_matrix = np.divide(np.dot((experiment_data - model_data), (experiment_data - model_data).T), data_volume)\n",
        "    \n",
        "    return covariance_matrix\n",
        "  \n",
        "  def model_likelihood(self, experiment_data, model_data):\n",
        "    \n",
        "    data_size = experiment_data.shape[1]\n",
        "    data_volume = experiment_data.shape[0]\n",
        "    covariance_matrix = self.error_covariance(experiment_data, model_data)\n",
        "    likelihood = np.zeros([data_volume, 1])\n",
        "    \n",
        "    for i in range(data_volume):\n",
        "      error = experiment_data[i, :] - model_data[i, :]\n",
        "      likelihood[i,0] = np.power(2 * np.pi, (-(0.5 * data_size))) * np.power(np.linalg.det(covariance_matrix), -1) * np.exp(np.dot((np.dot(error.T, np.linalg.inv(covariance_matrix))), error))\n",
        "    \n",
        "    likelihood = np.sum(likelihood)\n",
        "    \n",
        "    return likelihood\n",
        "  \n",
        "  def model_posterior(self, experiment_data, model_dataset, model_prior):\n",
        "    \n",
        "    model_volume = model_prior.shape[0]\n",
        "    posterior = np.zeros([model_volume, 1])\n",
        "    likelihood = np.zeros([model_volume, 1])\n",
        "    for i in range(model_volume):\n",
        "      model_data = model_dataset[i, :, :]\n",
        "      likelihood[i, :] = self.model_likelihood(experiment_data, model_data)\n",
        "    \n",
        "    normlization_factor = np.dot(model_prior.T, likelihood)\n",
        "    \n",
        "    for j in range(model_volume):\n",
        "      posterior[i, :] = (likelihood[i, :] * model_prior[i, :]) / normlization_factor\n",
        "    \n",
        "    return posterior"
      ],
      "metadata": {
        "id": "1__BltLANTTr"
      },
      "execution_count": 160,
      "outputs": []
    }
  ]
}