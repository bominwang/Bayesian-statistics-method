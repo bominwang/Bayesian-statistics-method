{
  "nbformat": 4,
  "nbformat_minor": 0,
  "metadata": {
    "colab": {
      "provenance": [],
      "authorship_tag": "ABX9TyNYfo/pT+y4Eu6sEb3IoQyE",
      "include_colab_link": true
    },
    "kernelspec": {
      "name": "python3",
      "display_name": "Python 3"
    },
    "language_info": {
      "name": "python"
    }
  },
  "cells": [
    {
      "cell_type": "markdown",
      "metadata": {
        "id": "view-in-github",
        "colab_type": "text"
      },
      "source": [
        "<a href=\"https://colab.research.google.com/github/bominwang/Bayesian-statistics-method/blob/bayesian-model-averaging-method/bayesian_model_averaging.ipynb\" target=\"_parent\"><img src=\"https://colab.research.google.com/assets/colab-badge.svg\" alt=\"Open In Colab\"/></a>"
      ]
    },
    {
      "cell_type": "code",
      "execution_count": 17,
      "metadata": {
        "id": "mZGrr3ob7uuZ"
      },
      "outputs": [],
      "source": [
        "import numpy as np"
      ]
    },
    {
      "cell_type": "code",
      "source": [
        "def error_covariance(experiment_data, model_data):\n",
        "  # experiment_data 和 model_data 都为numpy数组，每行表示一个样本\n",
        "  data_volume = experiment_data.shape[0]\n",
        "  covariance_matrix = np.divide(np.dot((experiment_data - model_data), (experiment_data - model_data).T), data_volume)\n",
        "  return covariance_matrix"
      ],
      "metadata": {
        "id": "jOHsYTVc77ex"
      },
      "execution_count": 23,
      "outputs": []
    }
  ]
}